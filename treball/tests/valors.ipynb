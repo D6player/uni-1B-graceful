{
 "cells": [
  {
   "cell_type": "code",
   "execution_count": 1,
   "id": "edb09a5e",
   "metadata": {},
   "outputs": [],
   "source": [
    "import numpy as np\n",
    "from math import pi"
   ]
  },
  {
   "cell_type": "code",
   "execution_count": 2,
   "id": "e54e548c",
   "metadata": {},
   "outputs": [],
   "source": [
    "# Extraccio de les dades\n",
    "\n",
    "with open(\"Mesures.s2p\", \"r\") as f:\n",
    "    raw_data = f.read().split(\"\\n\")[1:-1]\n",
    "    raw_data = [line.split() for line in raw_data]\n",
    "\n",
    "freqs = np.array([ float(line[0]) for line in raw_data ])\n",
    "phasors = np.array([ float(line[3]) + 1j*float(line[4]) for line in raw_data ])"
   ]
  },
  {
   "cell_type": "code",
   "execution_count": 3,
   "id": "cc22c6ac",
   "metadata": {},
   "outputs": [],
   "source": [
    "# Obtencio dels moduls i les fases\n",
    "\n",
    "modules = np.abs(phasors)\n",
    "phases = np.angle(phasors, deg=True)"
   ]
  },
  {
   "cell_type": "code",
   "execution_count": 4,
   "id": "3180f75c",
   "metadata": {},
   "outputs": [
    {
     "data": {
      "text/plain": [
       "0.9558524937868067"
      ]
     },
     "execution_count": 4,
     "metadata": {},
     "output_type": "execute_result"
    }
   ],
   "source": [
    "hmax_idx = modules.argmax()\n",
    "hmax = modules[hmax_idx]\n",
    "hmax"
   ]
  },
  {
   "cell_type": "code",
   "execution_count": 5,
   "id": "ed2b0bb3",
   "metadata": {},
   "outputs": [
    {
     "data": {
      "text/plain": [
       "2.309326308199182"
      ]
     },
     "execution_count": 5,
     "metadata": {},
     "output_type": "execute_result"
    }
   ],
   "source": [
    "Ro = 50\n",
    "Rm = Ro/hmax - Ro\n",
    "Rm"
   ]
  },
  {
   "cell_type": "code",
   "execution_count": 6,
   "id": "b169bda8",
   "metadata": {},
   "outputs": [
    {
     "data": {
      "text/plain": [
       "10136690.0"
      ]
     },
     "execution_count": 6,
     "metadata": {},
     "output_type": "execute_result"
    }
   ],
   "source": [
    "fo = freqs[hmax_idx]\n",
    "fo"
   ]
  },
  {
   "cell_type": "code",
   "execution_count": 7,
   "id": "bf91ad08",
   "metadata": {},
   "outputs": [
    {
     "data": {
      "text/plain": [
       "10136010.0"
      ]
     },
     "execution_count": 7,
     "metadata": {},
     "output_type": "execute_result"
    }
   ],
   "source": [
    "fc1 = freqs[(np.abs(modules[:hmax_idx] - hmax/np.sqrt(2))).argmin()]\n",
    "fc1"
   ]
  },
  {
   "cell_type": "code",
   "execution_count": 8,
   "id": "42a32435",
   "metadata": {},
   "outputs": [
    {
     "data": {
      "text/plain": [
       "10137340.0"
      ]
     },
     "execution_count": 8,
     "metadata": {},
     "output_type": "execute_result"
    }
   ],
   "source": [
    "fc2 = freqs[(np.abs(modules[hmax_idx:] - hmax/np.sqrt(2))).argmin() + hmax_idx]\n",
    "fc2"
   ]
  },
  {
   "cell_type": "code",
   "execution_count": 9,
   "id": "e1d7f581",
   "metadata": {},
   "outputs": [
    {
     "data": {
      "text/plain": [
       "1330.0"
      ]
     },
     "execution_count": 9,
     "metadata": {},
     "output_type": "execute_result"
    }
   ],
   "source": [
    "BW = fc2 - fc1\n",
    "BW"
   ]
  },
  {
   "cell_type": "code",
   "execution_count": 10,
   "id": "4d265e48",
   "metadata": {},
   "outputs": [
    {
     "data": {
      "text/plain": [
       "0.006259614926132951"
      ]
     },
     "execution_count": 10,
     "metadata": {},
     "output_type": "execute_result"
    }
   ],
   "source": [
    "Lm = (Ro + Rm)/(2 * pi * BW)\n",
    "Lm"
   ]
  },
  {
   "cell_type": "code",
   "execution_count": 11,
   "id": "447d1e98",
   "metadata": {},
   "outputs": [
    {
     "data": {
      "text/plain": [
       "3.938223103179858e-14"
      ]
     },
     "execution_count": 11,
     "metadata": {},
     "output_type": "execute_result"
    }
   ],
   "source": [
    "Cm = 1/( (2 * pi * fo)**2 * Lm )\n",
    "Cm"
   ]
  },
  {
   "cell_type": "code",
   "execution_count": 12,
   "id": "ebd17cfc",
   "metadata": {},
   "outputs": [
    {
     "data": {
      "text/plain": [
       "7621.571428571428"
      ]
     },
     "execution_count": 12,
     "metadata": {},
     "output_type": "execute_result"
    }
   ],
   "source": [
    "Q = fo/BW\n",
    "Q"
   ]
  },
  {
   "cell_type": "code",
   "execution_count": 13,
   "id": "66706dff",
   "metadata": {},
   "outputs": [
    {
     "data": {
      "text/plain": [
       "172638.7758295109"
      ]
     },
     "execution_count": 13,
     "metadata": {},
     "output_type": "execute_result"
    }
   ],
   "source": [
    "BWu = Rm/Lm\n",
    "Qu = 1/(BWu * np.sqrt(Lm * Cm))\n",
    "Qu"
   ]
  },
  {
   "cell_type": "code",
   "execution_count": 14,
   "id": "96723259",
   "metadata": {
    "scrolled": true
   },
   "outputs": [
    {
     "name": "stdout",
     "output_type": "stream",
     "text": [
      "Rm = 2.309326308199182\n",
      "BW = 1330.0\n",
      "Lm = 0.006259614926132951\n",
      "Cm = 3.938223103179858e-14\n",
      "Q = 7621.571428571428\n"
     ]
    }
   ],
   "source": [
    "print(\"Rm =\", Rm)\n",
    "print(\"BW =\", BW)\n",
    "print(\"Lm =\", Lm)\n",
    "print(\"Cm =\", Cm)\n",
    "print(\"Q =\", Q)"
   ]
  },
  {
   "cell_type": "code",
   "execution_count": 15,
   "id": "f82d16c5",
   "metadata": {},
   "outputs": [
    {
     "data": {
      "text/plain": [
       "10159700.0"
      ]
     },
     "execution_count": 15,
     "metadata": {},
     "output_type": "execute_result"
    }
   ],
   "source": [
    "f1 = freqs[modules.argmin()]\n",
    "f1"
   ]
  },
  {
   "cell_type": "code",
   "execution_count": 16,
   "id": "ee276956",
   "metadata": {},
   "outputs": [
    {
     "data": {
      "text/plain": [
       "(2.309326308199182+1807.9317002811003j)"
      ]
     },
     "execution_count": 16,
     "metadata": {},
     "output_type": "execute_result"
    }
   ],
   "source": [
    "Zs = Rm + 1j*(Lm * f1 * 2*pi - 1/(Cm * f1 * 2*pi))\n",
    "Zs"
   ]
  },
  {
   "cell_type": "code",
   "execution_count": 17,
   "id": "be1ba066",
   "metadata": {},
   "outputs": [
    {
     "data": {
      "text/plain": [
       "(7.065136469458759e-07-0.0005531173374934277j)"
      ]
     },
     "execution_count": 17,
     "metadata": {},
     "output_type": "execute_result"
    }
   ],
   "source": [
    "Ys = 1/Zs\n",
    "Ys"
   ]
  },
  {
   "cell_type": "code",
   "execution_count": 18,
   "id": "878917b3",
   "metadata": {},
   "outputs": [
    {
     "data": {
      "text/plain": [
       "2.8321873317442023e-05"
      ]
     },
     "execution_count": 18,
     "metadata": {},
     "output_type": "execute_result"
    }
   ],
   "source": [
    "Lp = -1/(Ys.imag * f1 * 2*pi)\n",
    "Lp"
   ]
  },
  {
   "cell_type": "code",
   "execution_count": 19,
   "id": "c1661b76",
   "metadata": {},
   "outputs": [
    {
     "data": {
      "text/plain": [
       "1415400.8267537504"
      ]
     },
     "execution_count": 19,
     "metadata": {},
     "output_type": "execute_result"
    }
   ],
   "source": [
    "Rp = 1/(Ys.real)\n",
    "Rp"
   ]
  },
  {
   "cell_type": "code",
   "execution_count": 20,
   "id": "52199811",
   "metadata": {},
   "outputs": [
    {
     "data": {
      "text/plain": [
       "8.66475962596407e-12"
      ]
     },
     "execution_count": 20,
     "metadata": {},
     "output_type": "execute_result"
    }
   ],
   "source": [
    "Ce = -(Ys.imag)/(2*pi * f1)\n",
    "Ce"
   ]
  },
  {
   "cell_type": "code",
   "execution_count": 21,
   "id": "86a30f82",
   "metadata": {},
   "outputs": [
    {
     "data": {
      "text/plain": [
       "10136690.0"
      ]
     },
     "execution_count": 21,
     "metadata": {},
     "output_type": "execute_result"
    }
   ],
   "source": [
    "1/(2 * pi * np.sqrt(Lm * Cm))"
   ]
  },
  {
   "cell_type": "code",
   "execution_count": 25,
   "id": "1072fafb",
   "metadata": {},
   "outputs": [
    {
     "data": {
      "text/plain": [
       "1.4651782427259272e-05"
      ]
     },
     "execution_count": 25,
     "metadata": {},
     "output_type": "execute_result"
    }
   ],
   "source": [
    "np.angle(Ro/(( 1/( 1/Rm + 1j*Cm * 2*pi * fo ) ) + Ro), deg=True)"
   ]
  }
 ],
 "metadata": {
  "kernelspec": {
   "display_name": "Python 3 (ipykernel)",
   "language": "python",
   "name": "python3"
  },
  "language_info": {
   "codemirror_mode": {
    "name": "ipython",
    "version": 3
   },
   "file_extension": ".py",
   "mimetype": "text/x-python",
   "name": "python",
   "nbconvert_exporter": "python",
   "pygments_lexer": "ipython3",
   "version": "3.10.10"
  }
 },
 "nbformat": 4,
 "nbformat_minor": 5
}
